{
 "cells": [
  {
   "cell_type": "markdown",
   "metadata": {},
   "source": [
    "# Pylab - Matlab style Python"
   ]
  },
  {
   "cell_type": "markdown",
   "metadata": {},
   "source": [
    "Pylab is a module that provides a Matlab like namespace by importing functions from the modules Numpy and Matplotlib. Numpy provides efficient numerical vector calculations based on underlying Fortran and C binary libraries. Matplotlib contains functions to create visualizations of data."
   ]
  },
  {
   "cell_type": "code",
   "execution_count": 1,
   "metadata": {
    "collapsed": false
   },
   "outputs": [
    {
     "name": "stdout",
     "output_type": "stream",
     "text": [
      "Populating the interactive namespace from numpy and matplotlib\n"
     ]
    },
    {
     "name": "stderr",
     "output_type": "stream",
     "text": [
      "Value error parsing header in AFM: b'UnderlinePosition' b'-133\\rUnderlineThickness 20\\rVersion 7.000'\n"
     ]
    }
   ],
   "source": [
    "# this ipython magic command imports pylab and allows the plots to reside within the notebook\n",
    "%pylab inline"
   ]
  },
  {
   "cell_type": "markdown",
   "metadata": {},
   "source": [
    "The following examples are based on Florian Lhuillier's lecture on Matlab which can be found online:\n",
    "\n",
    "http://geophysik.uni-muenchen.de/~lhuillier/teaching/AD2010/\n",
    "\n",
    "\n",
    "## Examples based on \"Rappels d’utilisation de MATLAB\"\n",
    "\n",
    "### numpy.array"
   ]
  },
  {
   "cell_type": "code",
   "execution_count": 2,
   "metadata": {
    "collapsed": true
   },
   "outputs": [],
   "source": [
    "M = array(((1,2,3), (4,5,6), (7,8,9)))"
   ]
  },
  {
   "cell_type": "code",
   "execution_count": 3,
   "metadata": {
    "collapsed": false
   },
   "outputs": [
    {
     "data": {
      "text/plain": [
       "array([[1, 2, 3],\n",
       "       [4, 5, 6],\n",
       "       [7, 8, 9]])"
      ]
     },
     "execution_count": 3,
     "metadata": {},
     "output_type": "execute_result"
    }
   ],
   "source": [
    "M"
   ]
  },
  {
   "cell_type": "code",
   "execution_count": 4,
   "metadata": {
    "collapsed": true
   },
   "outputs": [],
   "source": [
    "L=array((1,2,3))"
   ]
  },
  {
   "cell_type": "code",
   "execution_count": 5,
   "metadata": {
    "collapsed": true
   },
   "outputs": [],
   "source": [
    "C=array((1,2,3)).T"
   ]
  },
  {
   "cell_type": "code",
   "execution_count": 6,
   "metadata": {
    "collapsed": false
   },
   "outputs": [
    {
     "data": {
      "text/plain": [
       "(array([1, 2, 3]), array([1, 2, 3]))"
      ]
     },
     "execution_count": 6,
     "metadata": {},
     "output_type": "execute_result"
    }
   ],
   "source": [
    "L, C"
   ]
  },
  {
   "cell_type": "code",
   "execution_count": 7,
   "metadata": {
    "collapsed": false
   },
   "outputs": [
    {
     "data": {
      "text/plain": [
       "array([ 1,  2,  3,  4,  5,  6,  7,  8,  9, 10])"
      ]
     },
     "execution_count": 7,
     "metadata": {},
     "output_type": "execute_result"
    }
   ],
   "source": [
    "t1=arange(1,11); t1"
   ]
  },
  {
   "cell_type": "code",
   "execution_count": 8,
   "metadata": {
    "collapsed": false
   },
   "outputs": [
    {
     "data": {
      "text/plain": [
       "array([1, 3, 5, 7, 9])"
      ]
     },
     "execution_count": 8,
     "metadata": {},
     "output_type": "execute_result"
    }
   ],
   "source": [
    "t2=arange(1,11,2); t2"
   ]
  },
  {
   "cell_type": "code",
   "execution_count": 9,
   "metadata": {
    "collapsed": false
   },
   "outputs": [
    {
     "data": {
      "text/plain": [
       "array([10,  9,  8,  7,  6,  5,  4,  3,  2,  1])"
      ]
     },
     "execution_count": 9,
     "metadata": {},
     "output_type": "execute_result"
    }
   ],
   "source": [
    "t3=arange(10,0,-1); t3"
   ]
  },
  {
   "cell_type": "markdown",
   "metadata": {},
   "source": [
    "### get specific elements"
   ]
  },
  {
   "cell_type": "code",
   "execution_count": 10,
   "metadata": {
    "collapsed": false
   },
   "outputs": [
    {
     "data": {
      "text/plain": [
       "array([ 1,  2,  3,  4,  5,  6,  7,  8,  9, 10])"
      ]
     },
     "execution_count": 10,
     "metadata": {},
     "output_type": "execute_result"
    }
   ],
   "source": [
    "t1"
   ]
  },
  {
   "cell_type": "code",
   "execution_count": 11,
   "metadata": {
    "collapsed": false
   },
   "outputs": [
    {
     "data": {
      "text/plain": [
       "5"
      ]
     },
     "execution_count": 11,
     "metadata": {},
     "output_type": "execute_result"
    }
   ],
   "source": [
    "t1[4]"
   ]
  },
  {
   "cell_type": "code",
   "execution_count": 12,
   "metadata": {
    "collapsed": false
   },
   "outputs": [
    {
     "data": {
      "text/plain": [
       "array([ 1,  5, 10])"
      ]
     },
     "execution_count": 12,
     "metadata": {},
     "output_type": "execute_result"
    }
   ],
   "source": [
    "t1[[0,4,9]]"
   ]
  },
  {
   "cell_type": "code",
   "execution_count": 13,
   "metadata": {
    "collapsed": false
   },
   "outputs": [
    {
     "data": {
      "text/plain": [
       "array([1, 2, 3, 4, 5])"
      ]
     },
     "execution_count": 13,
     "metadata": {},
     "output_type": "execute_result"
    }
   ],
   "source": [
    "t1[0:5]"
   ]
  },
  {
   "cell_type": "code",
   "execution_count": 14,
   "metadata": {
    "collapsed": false
   },
   "outputs": [
    {
     "data": {
      "text/plain": [
       "array([1, 3, 5, 7, 9])"
      ]
     },
     "execution_count": 14,
     "metadata": {},
     "output_type": "execute_result"
    }
   ],
   "source": [
    "t1[0::2]"
   ]
  },
  {
   "cell_type": "code",
   "execution_count": 15,
   "metadata": {
    "collapsed": false
   },
   "outputs": [
    {
     "data": {
      "text/plain": [
       "array([ 2,  4,  6,  8, 10])"
      ]
     },
     "execution_count": 15,
     "metadata": {},
     "output_type": "execute_result"
    }
   ],
   "source": [
    "t1[1::2]"
   ]
  },
  {
   "cell_type": "code",
   "execution_count": 16,
   "metadata": {
    "collapsed": false
   },
   "outputs": [
    {
     "data": {
      "text/plain": [
       "array([False, False, False, False, False,  True,  True,  True,  True,  True], dtype=bool)"
      ]
     },
     "execution_count": 16,
     "metadata": {},
     "output_type": "execute_result"
    }
   ],
   "source": [
    "t1>5"
   ]
  },
  {
   "cell_type": "code",
   "execution_count": 17,
   "metadata": {
    "collapsed": false
   },
   "outputs": [
    {
     "data": {
      "text/plain": [
       "array([ 6,  7,  8,  9, 10])"
      ]
     },
     "execution_count": 17,
     "metadata": {},
     "output_type": "execute_result"
    }
   ],
   "source": [
    "t1[t1>5]"
   ]
  },
  {
   "cell_type": "code",
   "execution_count": 18,
   "metadata": {
    "collapsed": false
   },
   "outputs": [
    {
     "data": {
      "text/plain": [
       "array([False,  True, False,  True, False,  True, False,  True, False,  True], dtype=bool)"
      ]
     },
     "execution_count": 18,
     "metadata": {},
     "output_type": "execute_result"
    }
   ],
   "source": [
    "t1%2==0"
   ]
  },
  {
   "cell_type": "code",
   "execution_count": 19,
   "metadata": {
    "collapsed": false
   },
   "outputs": [
    {
     "data": {
      "text/plain": [
       "array([ 2,  4,  6,  8, 10])"
      ]
     },
     "execution_count": 19,
     "metadata": {},
     "output_type": "execute_result"
    }
   ],
   "source": [
    "t1[t1%2==0]"
   ]
  },
  {
   "cell_type": "code",
   "execution_count": 20,
   "metadata": {
    "collapsed": false
   },
   "outputs": [
    {
     "data": {
      "text/plain": [
       "array([ True, False,  True, False,  True, False,  True, False,  True, False], dtype=bool)"
      ]
     },
     "execution_count": 20,
     "metadata": {},
     "output_type": "execute_result"
    }
   ],
   "source": [
    "t1%2==1"
   ]
  },
  {
   "cell_type": "code",
   "execution_count": 21,
   "metadata": {
    "collapsed": false
   },
   "outputs": [
    {
     "data": {
      "text/plain": [
       "array([1, 3, 5, 7, 9])"
      ]
     },
     "execution_count": 21,
     "metadata": {},
     "output_type": "execute_result"
    }
   ],
   "source": [
    "t1[t1%2==1]"
   ]
  },
  {
   "cell_type": "markdown",
   "metadata": {},
   "source": [
    "### Matplotlib plotting"
   ]
  },
  {
   "cell_type": "code",
   "execution_count": 22,
   "metadata": {
    "collapsed": false
   },
   "outputs": [
    {
     "data": {
      "text/plain": [
       "array([-6.28318531, -6.18318531, -6.08318531, -5.98318531, -5.88318531,\n",
       "       -5.78318531, -5.68318531, -5.58318531, -5.48318531, -5.38318531,\n",
       "       -5.28318531, -5.18318531, -5.08318531, -4.98318531, -4.88318531,\n",
       "       -4.78318531, -4.68318531, -4.58318531, -4.48318531, -4.38318531,\n",
       "       -4.28318531, -4.18318531, -4.08318531, -3.98318531, -3.88318531,\n",
       "       -3.78318531, -3.68318531, -3.58318531, -3.48318531, -3.38318531,\n",
       "       -3.28318531, -3.18318531, -3.08318531, -2.98318531, -2.88318531,\n",
       "       -2.78318531, -2.68318531, -2.58318531, -2.48318531, -2.38318531,\n",
       "       -2.28318531, -2.18318531, -2.08318531, -1.98318531, -1.88318531,\n",
       "       -1.78318531, -1.68318531, -1.58318531, -1.48318531, -1.38318531,\n",
       "       -1.28318531, -1.18318531, -1.08318531, -0.98318531, -0.88318531,\n",
       "       -0.78318531, -0.68318531, -0.58318531, -0.48318531, -0.38318531,\n",
       "       -0.28318531, -0.18318531, -0.08318531,  0.01681469,  0.11681469,\n",
       "        0.21681469,  0.31681469,  0.41681469,  0.51681469,  0.61681469,\n",
       "        0.71681469,  0.81681469,  0.91681469,  1.01681469,  1.11681469,\n",
       "        1.21681469,  1.31681469,  1.41681469,  1.51681469,  1.61681469,\n",
       "        1.71681469,  1.81681469,  1.91681469,  2.01681469,  2.11681469,\n",
       "        2.21681469,  2.31681469,  2.41681469,  2.51681469,  2.61681469,\n",
       "        2.71681469,  2.81681469,  2.91681469,  3.01681469,  3.11681469,\n",
       "        3.21681469,  3.31681469,  3.41681469,  3.51681469,  3.61681469,\n",
       "        3.71681469,  3.81681469,  3.91681469,  4.01681469,  4.11681469,\n",
       "        4.21681469,  4.31681469,  4.41681469,  4.51681469,  4.61681469,\n",
       "        4.71681469,  4.81681469,  4.91681469,  5.01681469,  5.11681469,\n",
       "        5.21681469,  5.31681469,  5.41681469,  5.51681469,  5.61681469,\n",
       "        5.71681469,  5.81681469,  5.91681469,  6.01681469,  6.11681469,\n",
       "        6.21681469])"
      ]
     },
     "execution_count": 22,
     "metadata": {},
     "output_type": "execute_result"
    }
   ],
   "source": [
    "t = arange( -2*pi,2*pi,0.1); t"
   ]
  },
  {
   "cell_type": "code",
   "execution_count": 27,
   "metadata": {
    "collapsed": false
   },
   "outputs": [],
   "source": [
    "x1=cos(t)"
   ]
  },
  {
   "cell_type": "code",
   "execution_count": 28,
   "metadata": {
    "collapsed": true
   },
   "outputs": [],
   "source": [
    "x2=sin(t)"
   ]
  },
  {
   "cell_type": "code",
   "execution_count": 30,
   "metadata": {
    "collapsed": false
   },
   "outputs": [
    {
     "data": {
      "text/plain": [
       "126"
      ]
     },
     "execution_count": 30,
     "metadata": {},
     "output_type": "execute_result"
    }
   ],
   "source": [
    "len(x2)"
   ]
  },
  {
   "cell_type": "code",
   "execution_count": 34,
   "metadata": {
    "collapsed": false
   },
   "outputs": [
    {
     "data": {
      "text/plain": [
       "<matplotlib.legend.Legend at 0x7f5fe9c0dc18>"
      ]
     },
     "execution_count": 34,
     "metadata": {},
     "output_type": "execute_result"
    },
    {
     "data": {
      "image/png": "[encoded data removed]",
      "text/plain": [
       "<matplotlib.figure.Figure at 0x7f5fe9934630>"
      ]
     },
     "metadata": {},
     "output_type": "display_data"
    }
   ],
   "source": [
    "plot(t,x1, color='r', linewidth=2, label='x1=cos(t)')\n",
    "plot(t, x2, ' o', markeredgecolor='g', markerfacecolor=\"None\", label='x2=sin(t)')\n",
    "title('my title', color='r')\n",
    "xlabel('t-axis')\n",
    "ylabel('x-axis')\n",
    "legend()"
   ]
  },
  {
   "cell_type": "code",
   "execution_count": 35,
   "metadata": {
    "collapsed": false
   },
   "outputs": [
    {
     "data": {
      "image/png": "[encoded data removed]",
      "text/plain": [
       "<matplotlib.figure.Figure at 0x7f5fe9bfe710>"
      ]
     },
     "metadata": {},
     "output_type": "display_data"
    }
   ],
   "source": [
    "subplot(211)\n",
    "plot(t, x1, 'r', linewidth=2)\n",
    "title('$x_1=\\cos(t)$')\n",
    "subplot(212)\n",
    "plot(t, x2, ' o', markeredgecolor='g', markerfacecolor=\"None\")\n",
    "title('$x_2=\\sin(t)$')\n",
    "subplots_adjust(hspace=.5)"
   ]
  },
  {
   "cell_type": "markdown",
   "metadata": {},
   "source": [
    "## Examples based on \"familiarisation avec Matlab\""
   ]
  },
  {
   "cell_type": "code",
   "execution_count": 36,
   "metadata": {
    "collapsed": true
   },
   "outputs": [],
   "source": [
    "set_printoptions(precision=2, suppress=True)"
   ]
  },
  {
   "cell_type": "markdown",
   "metadata": {},
   "source": [
    "### Excercise 1"
   ]
  },
  {
   "cell_type": "code",
   "execution_count": 37,
   "metadata": {
    "collapsed": false
   },
   "outputs": [
    {
     "data": {
      "text/plain": [
       "array([17,  8, 12, 15,  6, 11,  9, 18, 16, 10, 13, 19])"
      ]
     },
     "execution_count": 37,
     "metadata": {},
     "output_type": "execute_result"
    }
   ],
   "source": [
    "x=array((17,8,12,15,6,11,9,18,16,10,13,19)); x"
   ]
  },
  {
   "cell_type": "code",
   "execution_count": 38,
   "metadata": {
    "collapsed": false
   },
   "outputs": [
    {
     "data": {
      "text/plain": [
       "12"
      ]
     },
     "execution_count": 38,
     "metadata": {},
     "output_type": "execute_result"
    }
   ],
   "source": [
    "N = len(x); N"
   ]
  },
  {
   "cell_type": "code",
   "execution_count": 39,
   "metadata": {
    "collapsed": false
   },
   "outputs": [
    {
     "data": {
      "text/plain": [
       "154"
      ]
     },
     "execution_count": 39,
     "metadata": {},
     "output_type": "execute_result"
    }
   ],
   "source": [
    "S = sum(x); S"
   ]
  },
  {
   "cell_type": "code",
   "execution_count": 40,
   "metadata": {
    "collapsed": false
   },
   "outputs": [
    {
     "data": {
      "text/plain": [
       "12.833333333333334"
      ]
     },
     "execution_count": 40,
     "metadata": {},
     "output_type": "execute_result"
    }
   ],
   "source": [
    "xbarre = S / N; xbarre"
   ]
  },
  {
   "cell_type": "code",
   "execution_count": 41,
   "metadata": {
    "collapsed": false
   },
   "outputs": [
    {
     "data": {
      "text/plain": [
       "12.833333333333334"
      ]
     },
     "execution_count": 41,
     "metadata": {},
     "output_type": "execute_result"
    }
   ],
   "source": [
    "xbarre = mean( x); xbarre"
   ]
  },
  {
   "cell_type": "code",
   "execution_count": 42,
   "metadata": {
    "collapsed": false
   },
   "outputs": [
    {
     "data": {
      "text/plain": [
       "4.1959576506514704"
      ]
     },
     "execution_count": 42,
     "metadata": {},
     "output_type": "execute_result"
    }
   ],
   "source": [
    "sigma = sqrt(sum((x-xbarre)**2)/(N-1)); sigma"
   ]
  },
  {
   "cell_type": "code",
   "execution_count": 43,
   "metadata": {
    "collapsed": false
   },
   "outputs": [
    {
     "data": {
      "text/plain": [
       "4.1959576506514704"
      ]
     },
     "execution_count": 43,
     "metadata": {},
     "output_type": "execute_result"
    }
   ],
   "source": [
    "sigma = std(x, ddof=1); sigma"
   ]
  },
  {
   "cell_type": "code",
   "execution_count": 44,
   "metadata": {
    "collapsed": false
   },
   "outputs": [
    {
     "data": {
      "text/plain": [
       "array([-9,  4,  3, -9,  5, -2,  9, -2, -6,  3,  6])"
      ]
     },
     "execution_count": 44,
     "metadata": {},
     "output_type": "execute_result"
    }
   ],
   "source": [
    "dx = x[1:]-x[0:-1]; dx"
   ]
  },
  {
   "cell_type": "code",
   "execution_count": 45,
   "metadata": {
    "collapsed": false
   },
   "outputs": [
    {
     "data": {
      "text/plain": [
       "array([-9,  4,  3, -9,  5, -2,  9, -2, -6,  3,  6])"
      ]
     },
     "execution_count": 45,
     "metadata": {},
     "output_type": "execute_result"
    }
   ],
   "source": [
    "dx = diff(x); dx"
   ]
  },
  {
   "cell_type": "markdown",
   "metadata": {},
   "source": [
    "### Excercise 2"
   ]
  },
  {
   "cell_type": "code",
   "execution_count": 46,
   "metadata": {
    "collapsed": false
   },
   "outputs": [
    {
     "data": {
      "text/plain": [
       "array([-25., -24., -23., -22., -21., -20., -19., -18., -17., -16., -15.,\n",
       "       -14., -13., -12., -11., -10.,  -9.,  -8.,  -7.,  -6.,  -5.,  -4.,\n",
       "        -3.,  -2.,  -1.,   0.,   1.,   2.,   3.,   4.,   5.,   6.,   7.,\n",
       "         8.,   9.,  10.,  11.,  12.,  13.,  14.,  15.,  16.,  17.,  18.,\n",
       "        19.,  20.,  21.,  22.,  23.,  24.,  25.])"
      ]
     },
     "execution_count": 46,
     "metadata": {},
     "output_type": "execute_result"
    }
   ],
   "source": [
    "t = linspace(-25,25,51); t"
   ]
  },
  {
   "cell_type": "code",
   "execution_count": 47,
   "metadata": {
    "collapsed": false
   },
   "outputs": [
    {
     "data": {
      "text/plain": [
       "array([ 625.,  576.,  529.,  484.,  441.,  400.,  361.,  324.,  289.,\n",
       "        256.,  225.,  196.,  169.,  144.,  121.,  100.,   81.,   64.,\n",
       "         49.,   36.,   25.,   16.,    9.,    4.,    1.,    0.,    1.,\n",
       "          4.,    9.,   16.,   25.,   36.,   49.,   64.,   81.,  100.,\n",
       "        121.,  144.,  169.,  196.,  225.,  256.,  289.,  324.,  361.,\n",
       "        400.,  441.,  484.,  529.,  576.,  625.])"
      ]
     },
     "execution_count": 47,
     "metadata": {},
     "output_type": "execute_result"
    }
   ],
   "source": [
    "x = t**2; x"
   ]
  },
  {
   "cell_type": "code",
   "execution_count": 48,
   "metadata": {
    "collapsed": false
   },
   "outputs": [
    {
     "data": {
      "text/plain": [
       "array([ 15625.,  13824.,  12167.,  10648.,   9261.,   8000.,   6859.,\n",
       "         5832.,   4913.,   4096.,   3375.,   2744.,   2197.,   1728.,\n",
       "         1331.,   1000.,    729.,    512.,    343.,    216.,    125.,\n",
       "           64.,     27.,      8.,      1.,      0.,     -1.,     -8.,\n",
       "          -27.,    -64.,   -125.,   -216.,   -343.,   -512.,   -729.,\n",
       "        -1000.,  -1331.,  -1728.,  -2197.,  -2744.,  -3375.,  -4096.,\n",
       "        -4913.,  -5832.,  -6859.,  -8000.,  -9261., -10648., -12167.,\n",
       "       -13824., -15625.])"
      ]
     },
     "execution_count": 48,
     "metadata": {},
     "output_type": "execute_result"
    }
   ],
   "source": [
    "y = t[::-1]**3; y"
   ]
  },
  {
   "cell_type": "code",
   "execution_count": 49,
   "metadata": {
    "collapsed": false
   },
   "outputs": [
    {
     "data": {
      "text/plain": [
       "array([[ 15625.,  13824.,  12167.,  10648.,   9261.,   8000.,   6859.,\n",
       "          5832.,   4913.,   4096.,   3375.,   2744.,   2197.,   1728.,\n",
       "          1331.,   1000.,    729.,    512.,    343.,    216.,    125.,\n",
       "            64.,     27.,      8.,      1.,      0.,     -1.,     -8.,\n",
       "           -27.,    -64.,   -125.,   -216.,   -343.,   -512.,   -729.,\n",
       "         -1000.,  -1331.,  -1728.,  -2197.,  -2744.,  -3375.,  -4096.,\n",
       "         -4913.,  -5832.,  -6859.,  -8000.,  -9261., -10648., -12167.,\n",
       "        -13824., -15625.]])"
      ]
     },
     "execution_count": 49,
     "metadata": {},
     "output_type": "execute_result"
    }
   ],
   "source": [
    "fliplr(t[newaxis])**3"
   ]
  },
  {
   "cell_type": "code",
   "execution_count": 50,
   "metadata": {
    "collapsed": false
   },
   "outputs": [
    {
     "data": {
      "text/plain": [
       "<matplotlib.text.Text at 0x7f5fe95ac978>"
      ]
     },
     "execution_count": 50,
     "metadata": {},
     "output_type": "execute_result"
    },
    {
     "data": {
      "image/png": "[encoded data removed]",
      "text/plain": [
       "<matplotlib.figure.Figure at 0x7f5fe9649b38>"
      ]
     },
     "metadata": {},
     "output_type": "display_data"
    }
   ],
   "source": [
    "subplot(2,1,1)\n",
    "plot(t,x)\n",
    "xlabel('t'); ylabel('x')\n",
    "subplot(212)\n",
    "plot(t,y)\n",
    "xlabel('t'); ylabel('y')"
   ]
  },
  {
   "cell_type": "code",
   "execution_count": 51,
   "metadata": {
    "collapsed": false
   },
   "outputs": [
    {
     "data": {
      "text/plain": [
       "array([False,  True, False,  True, False,  True, False,  True, False,\n",
       "        True, False,  True, False,  True, False,  True, False,  True,\n",
       "       False,  True, False,  True, False,  True, False,  True, False,\n",
       "        True, False,  True, False,  True, False,  True, False,  True,\n",
       "       False,  True, False,  True, False,  True, False,  True, False,\n",
       "        True, False,  True, False,  True, False], dtype=bool)"
      ]
     },
     "execution_count": 51,
     "metadata": {},
     "output_type": "execute_result"
    }
   ],
   "source": [
    "fix(x/2)==x/2"
   ]
  },
  {
   "cell_type": "code",
   "execution_count": 52,
   "metadata": {
    "collapsed": false
   },
   "outputs": [
    {
     "data": {
      "text/plain": [
       "5200.0"
      ]
     },
     "execution_count": 52,
     "metadata": {},
     "output_type": "execute_result"
    }
   ],
   "source": [
    "sum( x[fix(x/2)==x/2])"
   ]
  },
  {
   "cell_type": "code",
   "execution_count": 53,
   "metadata": {
    "collapsed": false
   },
   "outputs": [
    {
     "data": {
      "text/plain": [
       "5200.0"
      ]
     },
     "execution_count": 53,
     "metadata": {},
     "output_type": "execute_result"
    }
   ],
   "source": [
    "sum( x[remainder(x,2)==0])"
   ]
  },
  {
   "cell_type": "code",
   "execution_count": 54,
   "metadata": {
    "collapsed": false
   },
   "outputs": [
    {
     "data": {
      "text/plain": [
       "5200.0"
      ]
     },
     "execution_count": 54,
     "metadata": {},
     "output_type": "execute_result"
    }
   ],
   "source": [
    "sum( x[x%2==0])"
   ]
  },
  {
   "cell_type": "code",
   "execution_count": 55,
   "metadata": {
    "collapsed": false
   },
   "outputs": [
    {
     "data": {
      "text/plain": [
       "105625.0"
      ]
     },
     "execution_count": 55,
     "metadata": {},
     "output_type": "execute_result"
    }
   ],
   "source": [
    "sum( y[y>0])"
   ]
  },
  {
   "cell_type": "markdown",
   "metadata": {},
   "source": [
    "### Excercise 3"
   ]
  },
  {
   "cell_type": "code",
   "execution_count": 56,
   "metadata": {
    "collapsed": false
   },
   "outputs": [
    {
     "data": {
      "text/plain": [
       "array([  1. ,   1.5,   2. ,   2.5,   3. ,   3.5,   4. ,   4.5,   5. ,\n",
       "         5.5,   6. ,   6.5,   7. ,   7.5,   8. ,   8.5,   9. ,   9.5,  10. ])"
      ]
     },
     "execution_count": 56,
     "metadata": {},
     "output_type": "execute_result"
    }
   ],
   "source": [
    "t = arange(1,10.01,0.5); t"
   ]
  },
  {
   "cell_type": "code",
   "execution_count": 63,
   "metadata": {
    "collapsed": false
   },
   "outputs": [
    {
     "data": {
      "text/plain": [
       "array([[     1.  ,      1.  ,      1.  ,      1.  ],\n",
       "       [     1.5 ,      2.25,      3.38,      5.06],\n",
       "       [     2.  ,      4.  ,      8.  ,     16.  ],\n",
       "       [     2.5 ,      6.25,     15.62,     39.06],\n",
       "       [     3.  ,      9.  ,     27.  ,     81.  ],\n",
       "       [     3.5 ,     12.25,     42.88,    150.06],\n",
       "       [     4.  ,     16.  ,     64.  ,    256.  ],\n",
       "       [     4.5 ,     20.25,     91.12,    410.06],\n",
       "       [     5.  ,     25.  ,    125.  ,    625.  ],\n",
       "       [     5.5 ,     30.25,    166.38,    915.06],\n",
       "       [     6.  ,     36.  ,    216.  ,   1296.  ],\n",
       "       [     6.5 ,     42.25,    274.62,   1785.06],\n",
       "       [     7.  ,     49.  ,    343.  ,   2401.  ],\n",
       "       [     7.5 ,     56.25,    421.88,   3164.06],\n",
       "       [     8.  ,     64.  ,    512.  ,   4096.  ],\n",
       "       [     8.5 ,     72.25,    614.12,   5220.06],\n",
       "       [     9.  ,     81.  ,    729.  ,   6561.  ],\n",
       "       [     9.5 ,     90.25,    857.38,   8145.06],\n",
       "       [    10.  ,    100.  ,   1000.  ,  10000.  ]])"
      ]
     },
     "execution_count": 63,
     "metadata": {},
     "output_type": "execute_result"
    }
   ],
   "source": [
    "A = array( (t, t**2, t**3, t**4)).T; A"
   ]
  },
  {
   "cell_type": "code",
   "execution_count": 64,
   "metadata": {
    "collapsed": false
   },
   "outputs": [
    {
     "data": {
      "text/plain": [
       "array([[     1.  ,      1.  ,      1.  ,      1.  ,      0.  ],\n",
       "       [     1.5 ,      2.25,      3.38,      5.06,      0.  ],\n",
       "       [     2.  ,      4.  ,      8.  ,     16.  ,      0.  ],\n",
       "       [     2.5 ,      6.25,     15.62,     39.06,      0.  ],\n",
       "       [     3.  ,      9.  ,     27.  ,     81.  ,      0.  ],\n",
       "       [     3.5 ,     12.25,     42.88,    150.06,      0.  ],\n",
       "       [     4.  ,     16.  ,     64.  ,    256.  ,      0.  ],\n",
       "       [     4.5 ,     20.25,     91.12,    410.06,      0.  ],\n",
       "       [     5.  ,     25.  ,    125.  ,    625.  ,      0.  ],\n",
       "       [     5.5 ,     30.25,    166.38,    915.06,      1.  ],\n",
       "       [     6.  ,     36.  ,    216.  ,   1296.  ,      1.  ],\n",
       "       [     6.5 ,     42.25,    274.62,   1785.06,      1.  ],\n",
       "       [     7.  ,     49.  ,    343.  ,   2401.  ,      1.  ],\n",
       "       [     7.5 ,     56.25,    421.88,   3164.06,      1.  ],\n",
       "       [     8.  ,     64.  ,    512.  ,   4096.  ,      1.  ],\n",
       "       [     8.5 ,     72.25,    614.12,   5220.06,      1.  ],\n",
       "       [     9.  ,     81.  ,    729.  ,   6561.  ,      1.  ],\n",
       "       [     9.5 ,     90.25,    857.38,   8145.06,      1.  ],\n",
       "       [    10.  ,    100.  ,   1000.  ,  10000.  ,      1.  ]])"
      ]
     },
     "execution_count": 64,
     "metadata": {},
     "output_type": "execute_result"
    }
   ],
   "source": [
    "A = column_stack((A, t>5)); A"
   ]
  },
  {
   "cell_type": "code",
   "execution_count": 65,
   "metadata": {
    "collapsed": false
   },
   "outputs": [
    {
     "data": {
      "text/plain": [
       "array([[     1.  ,      1.  ,      1.  ,      1.  ,      0.  ,      5.  ],\n",
       "       [     1.5 ,      2.25,      3.38,      5.06,      0.  ,      0.  ],\n",
       "       [     2.  ,      4.  ,      8.  ,     16.  ,      0.  ,      5.  ],\n",
       "       [     2.5 ,      6.25,     15.62,     39.06,      0.  ,      0.  ],\n",
       "       [     3.  ,      9.  ,     27.  ,     81.  ,      0.  ,      5.  ],\n",
       "       [     3.5 ,     12.25,     42.88,    150.06,      0.  ,      0.  ],\n",
       "       [     4.  ,     16.  ,     64.  ,    256.  ,      0.  ,      5.  ],\n",
       "       [     4.5 ,     20.25,     91.12,    410.06,      0.  ,      0.  ],\n",
       "       [     5.  ,     25.  ,    125.  ,    625.  ,      0.  ,      5.  ],\n",
       "       [     5.5 ,     30.25,    166.38,    915.06,      1.  ,      0.  ],\n",
       "       [     6.  ,     36.  ,    216.  ,   1296.  ,      1.  ,      5.  ],\n",
       "       [     6.5 ,     42.25,    274.62,   1785.06,      1.  ,      0.  ],\n",
       "       [     7.  ,     49.  ,    343.  ,   2401.  ,      1.  ,      5.  ],\n",
       "       [     7.5 ,     56.25,    421.88,   3164.06,      1.  ,      0.  ],\n",
       "       [     8.  ,     64.  ,    512.  ,   4096.  ,      1.  ,      5.  ],\n",
       "       [     8.5 ,     72.25,    614.12,   5220.06,      1.  ,      0.  ],\n",
       "       [     9.  ,     81.  ,    729.  ,   6561.  ,      1.  ,      5.  ],\n",
       "       [     9.5 ,     90.25,    857.38,   8145.06,      1.  ,      0.  ],\n",
       "       [    10.  ,    100.  ,   1000.  ,  10000.  ,      1.  ,      5.  ]])"
      ]
     },
     "execution_count": 65,
     "metadata": {},
     "output_type": "execute_result"
    }
   ],
   "source": [
    "column_stack((A, (fix(t)==t)*5))"
   ]
  },
  {
   "cell_type": "code",
   "execution_count": 66,
   "metadata": {
    "collapsed": false
   },
   "outputs": [
    {
     "data": {
      "text/plain": [
       "array([[     1.  ,      1.  ,      1.  ,      1.  ,      0.  ,      5.  ],\n",
       "       [     1.5 ,      2.25,      3.38,      5.06,      0.  ,      0.  ],\n",
       "       [     2.  ,      4.  ,      8.  ,     16.  ,      0.  ,      5.  ],\n",
       "       [     2.5 ,      6.25,     15.62,     39.06,      0.  ,      0.  ],\n",
       "       [     3.  ,      9.  ,     27.  ,     81.  ,      0.  ,      5.  ],\n",
       "       [     3.5 ,     12.25,     42.88,    150.06,      0.  ,      0.  ],\n",
       "       [     4.  ,     16.  ,     64.  ,    256.  ,      0.  ,      5.  ],\n",
       "       [     4.5 ,     20.25,     91.12,    410.06,      0.  ,      0.  ],\n",
       "       [     5.  ,     25.  ,    125.  ,    625.  ,      0.  ,      5.  ],\n",
       "       [     5.5 ,     30.25,    166.38,    915.06,      1.  ,      0.  ],\n",
       "       [     6.  ,     36.  ,    216.  ,   1296.  ,      1.  ,      5.  ],\n",
       "       [     6.5 ,     42.25,    274.62,   1785.06,      1.  ,      0.  ],\n",
       "       [     7.  ,     49.  ,    343.  ,   2401.  ,      1.  ,      5.  ],\n",
       "       [     7.5 ,     56.25,    421.88,   3164.06,      1.  ,      0.  ],\n",
       "       [     8.  ,     64.  ,    512.  ,   4096.  ,      1.  ,      5.  ],\n",
       "       [     8.5 ,     72.25,    614.12,   5220.06,      1.  ,      0.  ],\n",
       "       [     9.  ,     81.  ,    729.  ,   6561.  ,      1.  ,      5.  ],\n",
       "       [     9.5 ,     90.25,    857.38,   8145.06,      1.  ,      0.  ],\n",
       "       [    10.  ,    100.  ,   1000.  ,  10000.  ,      1.  ,      5.  ]])"
      ]
     },
     "execution_count": 66,
     "metadata": {},
     "output_type": "execute_result"
    }
   ],
   "source": [
    "column_stack((A, (remainder(t,1)==0)*5))"
   ]
  },
  {
   "cell_type": "code",
   "execution_count": 67,
   "metadata": {
    "collapsed": false
   },
   "outputs": [
    {
     "data": {
      "text/plain": [
       "array([[     1.  ,      1.  ,      1.  ,      1.  ,      0.  ,      5.  ],\n",
       "       [     1.5 ,      2.25,      3.38,      5.06,      0.  ,      0.  ],\n",
       "       [     2.  ,      4.  ,      8.  ,     16.  ,      0.  ,      5.  ],\n",
       "       [     2.5 ,      6.25,     15.62,     39.06,      0.  ,      0.  ],\n",
       "       [     3.  ,      9.  ,     27.  ,     81.  ,      0.  ,      5.  ],\n",
       "       [     3.5 ,     12.25,     42.88,    150.06,      0.  ,      0.  ],\n",
       "       [     4.  ,     16.  ,     64.  ,    256.  ,      0.  ,      5.  ],\n",
       "       [     4.5 ,     20.25,     91.12,    410.06,      0.  ,      0.  ],\n",
       "       [     5.  ,     25.  ,    125.  ,    625.  ,      0.  ,      5.  ],\n",
       "       [     5.5 ,     30.25,    166.38,    915.06,      1.  ,      0.  ],\n",
       "       [     6.  ,     36.  ,    216.  ,   1296.  ,      1.  ,      5.  ],\n",
       "       [     6.5 ,     42.25,    274.62,   1785.06,      1.  ,      0.  ],\n",
       "       [     7.  ,     49.  ,    343.  ,   2401.  ,      1.  ,      5.  ],\n",
       "       [     7.5 ,     56.25,    421.88,   3164.06,      1.  ,      0.  ],\n",
       "       [     8.  ,     64.  ,    512.  ,   4096.  ,      1.  ,      5.  ],\n",
       "       [     8.5 ,     72.25,    614.12,   5220.06,      1.  ,      0.  ],\n",
       "       [     9.  ,     81.  ,    729.  ,   6561.  ,      1.  ,      5.  ],\n",
       "       [     9.5 ,     90.25,    857.38,   8145.06,      1.  ,      0.  ],\n",
       "       [    10.  ,    100.  ,   1000.  ,  10000.  ,      1.  ,      5.  ]])"
      ]
     },
     "execution_count": 67,
     "metadata": {},
     "output_type": "execute_result"
    }
   ],
   "source": [
    "column_stack((A, (mod(t,1)==0)*5))"
   ]
  },
  {
   "cell_type": "code",
   "execution_count": 68,
   "metadata": {
    "collapsed": false
   },
   "outputs": [
    {
     "data": {
      "text/plain": [
       "array([[     1.  ,      1.  ,      1.  ,      1.  ,      0.  ,      5.  ],\n",
       "       [     1.5 ,      2.25,      3.38,      5.06,      0.  ,      0.  ],\n",
       "       [     2.  ,      4.  ,      8.  ,     16.  ,      0.  ,      5.  ],\n",
       "       [     2.5 ,      6.25,     15.62,     39.06,      0.  ,      0.  ],\n",
       "       [     3.  ,      9.  ,     27.  ,     81.  ,      0.  ,      5.  ],\n",
       "       [     3.5 ,     12.25,     42.88,    150.06,      0.  ,      0.  ],\n",
       "       [     4.  ,     16.  ,     64.  ,    256.  ,      0.  ,      5.  ],\n",
       "       [     4.5 ,     20.25,     91.12,    410.06,      0.  ,      0.  ],\n",
       "       [     5.  ,     25.  ,    125.  ,    625.  ,      0.  ,      5.  ],\n",
       "       [     5.5 ,     30.25,    166.38,    915.06,      1.  ,      0.  ],\n",
       "       [     6.  ,     36.  ,    216.  ,   1296.  ,      1.  ,      5.  ],\n",
       "       [     6.5 ,     42.25,    274.62,   1785.06,      1.  ,      0.  ],\n",
       "       [     7.  ,     49.  ,    343.  ,   2401.  ,      1.  ,      5.  ],\n",
       "       [     7.5 ,     56.25,    421.88,   3164.06,      1.  ,      0.  ],\n",
       "       [     8.  ,     64.  ,    512.  ,   4096.  ,      1.  ,      5.  ],\n",
       "       [     8.5 ,     72.25,    614.12,   5220.06,      1.  ,      0.  ],\n",
       "       [     9.  ,     81.  ,    729.  ,   6561.  ,      1.  ,      5.  ],\n",
       "       [     9.5 ,     90.25,    857.38,   8145.06,      1.  ,      0.  ],\n",
       "       [    10.  ,    100.  ,   1000.  ,  10000.  ,      1.  ,      5.  ]])"
      ]
     },
     "execution_count": 68,
     "metadata": {},
     "output_type": "execute_result"
    }
   ],
   "source": [
    "column_stack((A, (t % 1==0)*5))"
   ]
  },
  {
   "cell_type": "code",
   "execution_count": 72,
   "metadata": {
    "collapsed": false
   },
   "outputs": [
    {
     "data": {
      "text/plain": [
       "array([[     1.  ,      1.  ,      1.  ,      1.  ,      0.  ,      5.  ],\n",
       "       [     1.5 ,      2.25,      3.38,      5.06,      0.  ,      0.  ],\n",
       "       [     2.  ,      4.  ,      8.  ,     16.  ,      0.  ,      5.  ],\n",
       "       [     2.5 ,      6.25,     15.62,     39.06,      0.  ,      0.  ],\n",
       "       [     3.  ,      9.  ,     27.  ,     81.  ,      0.  ,      5.  ],\n",
       "       [     3.5 ,     12.25,     42.88,    150.06,      0.  ,      0.  ],\n",
       "       [     4.  ,     16.  ,     64.  ,    256.  ,      0.  ,      5.  ],\n",
       "       [     4.5 ,     20.25,     91.12,    410.06,      0.  ,      0.  ],\n",
       "       [     5.  ,     25.  ,    125.  ,    625.  ,      0.  ,      5.  ],\n",
       "       [     5.5 ,     30.25,    166.38,    915.06,      1.  ,      0.  ],\n",
       "       [     6.  ,     36.  ,    216.  ,   1296.  ,      1.  ,      5.  ],\n",
       "       [     6.5 ,     42.25,    274.62,   1785.06,      1.  ,      0.  ],\n",
       "       [     7.  ,     49.  ,    343.  ,   2401.  ,      1.  ,      5.  ],\n",
       "       [     7.5 ,     56.25,    421.88,   3164.06,      1.  ,      0.  ],\n",
       "       [     8.  ,     64.  ,    512.  ,   4096.  ,      1.  ,      5.  ],\n",
       "       [     8.5 ,     72.25,    614.12,   5220.06,      1.  ,      0.  ],\n",
       "       [     9.  ,     81.  ,    729.  ,   6561.  ,      1.  ,      5.  ],\n",
       "       [     9.5 ,     90.25,    857.38,   8145.06,      1.  ,      0.  ],\n",
       "       [    10.  ,    100.  ,   1000.  ,  10000.  ,      1.  ,      5.  ]])"
      ]
     },
     "execution_count": 72,
     "metadata": {},
     "output_type": "execute_result"
    }
   ],
   "source": [
    "column_stack((A, (A[:,1] % 1==0)*5))"
   ]
  },
  {
   "cell_type": "markdown",
   "metadata": {},
   "source": [
    "### Excercise 4"
   ]
  },
  {
   "cell_type": "code",
   "execution_count": 3,
   "metadata": {
    "collapsed": true
   },
   "outputs": [],
   "source": [
    "def matrace(A):\n",
    "    if A.shape[0] == A.shape[1]:  # square matrix\n",
    "        return sum(A.diagonal())\n",
    "    else:\n",
    "        return -1"
   ]
  },
  {
   "cell_type": "code",
   "execution_count": 4,
   "metadata": {
    "collapsed": false
   },
   "outputs": [
    {
     "data": {
      "text/plain": [
       "array([[ 0.63495405, -0.41332203],\n",
       "       [-0.7815181 , -0.13233533],\n",
       "       [ 0.7135537 , -2.28650789],\n",
       "       [ 1.06424592, -0.59932232],\n",
       "       [-0.92327638,  1.08949032],\n",
       "       [-0.3044619 , -1.41034731],\n",
       "       [ 2.43510089,  1.79379768],\n",
       "       [ 1.72210238, -0.07562774],\n",
       "       [-1.01335264, -0.55329476],\n",
       "       [-0.02516625,  0.3408787 ]])"
      ]
     },
     "execution_count": 4,
     "metadata": {},
     "output_type": "execute_result"
    }
   ],
   "source": [
    "B = randn(10,2); B"
   ]
  },
  {
   "cell_type": "code",
   "execution_count": 5,
   "metadata": {
    "collapsed": false
   },
   "outputs": [
    {
     "data": {
      "text/plain": [
       "array([[ 0.50088428,  0.93300777,  0.37201697,  0.77327375,  0.46656404,\n",
       "         0.62428764,  0.22893919,  0.05437433,  0.25646812,  0.61869992],\n",
       "       [ 0.21738864,  0.14611412,  0.6931886 ,  0.01817277,  0.77878839,\n",
       "         0.72566348,  0.04703873,  0.93371262,  0.83055894,  0.58275793],\n",
       "       [ 0.4355275 ,  0.64907709,  0.74873456,  0.01012651,  0.24467361,\n",
       "         0.2129306 ,  0.55225695,  0.84802033,  0.76059712,  0.4016598 ],\n",
       "       [ 0.30799587,  0.27933615,  0.86267317,  0.39175961,  0.6428809 ,\n",
       "         0.75737427,  0.41230321,  0.56131722,  0.69304986,  0.94859853],\n",
       "       [ 0.62737424,  0.37229053,  0.75572847,  0.0568789 ,  0.94284048,\n",
       "         0.97024807,  0.22325789,  0.93904313,  0.83170287,  0.65638246],\n",
       "       [ 0.45016252,  0.68649037,  0.71527278,  0.16762903,  0.33766686,\n",
       "         0.60118736,  0.34700568,  0.72236911,  0.70477416,  0.25416372],\n",
       "       [ 0.61660476,  0.1965179 ,  0.28903584,  0.10889469,  0.76724818,\n",
       "         0.68422022,  0.79335408,  0.46277956,  0.91468881,  0.67903228],\n",
       "       [ 0.12111865,  0.59213305,  0.1991645 ,  0.08751303,  0.89810622,\n",
       "         0.15385135,  0.90440875,  0.47300424,  0.92589573,  0.12016823],\n",
       "       [ 0.04863678,  0.12421563,  0.44208702,  0.52011922,  0.4823349 ,\n",
       "         0.27295407,  0.8477118 ,  0.77363518,  0.74753611,  0.01119114],\n",
       "       [ 0.82594717,  0.33727314,  0.04060328,  0.28458626,  0.9967468 ,\n",
       "         0.18169722,  0.10745559,  0.74661605,  0.42308565,  0.52056614]])"
      ]
     },
     "execution_count": 5,
     "metadata": {},
     "output_type": "execute_result"
    }
   ],
   "source": [
    "C = rand(10,10); C"
   ]
  },
  {
   "cell_type": "code",
   "execution_count": 6,
   "metadata": {
    "collapsed": false
   },
   "outputs": [
    {
     "data": {
      "text/plain": [
       "array([[  9.,   2.,   8.,   3.,   9.,   1.,   9.,   9.,   1.,   2.],\n",
       "       [  8.,   5.,   8.,   3.,   3.,   7.,   2.,   4.,   4.,   8.],\n",
       "       [  3.,   5.,   0.,   6.,   9.,   5.,  10.,   3.,   4.,   2.],\n",
       "       [  3.,   9.,   9.,   9.,   2.,   1.,   8.,   3.,   6.,   1.],\n",
       "       [  4.,   8.,   5.,   5.,   1.,   1.,   3.,   1.,   2.,  10.],\n",
       "       [  8.,   9.,   8.,   7.,   4.,   7.,   9.,   1.,   3.,   6.],\n",
       "       [  4.,   5.,   3.,   0.,   9.,   6.,   7.,   6.,   8.,   4.],\n",
       "       [  3.,   6.,   6.,   2.,   1.,   7.,   2.,   5.,   4.,   1.],\n",
       "       [  6.,   4.,   8.,   9.,   5.,   2.,   8.,   9.,   1.,   9.],\n",
       "       [  9.,   8.,   5.,   7.,   6.,   6.,   2.,   5.,   6.,   2.]])"
      ]
     },
     "execution_count": 6,
     "metadata": {},
     "output_type": "execute_result"
    }
   ],
   "source": [
    "D = around(rand(10,10)*10); D"
   ]
  },
  {
   "cell_type": "code",
   "execution_count": 7,
   "metadata": {
    "collapsed": false
   },
   "outputs": [
    {
     "data": {
      "text/plain": [
       "(-1, 0.50261872238441196)"
      ]
     },
     "execution_count": 7,
     "metadata": {},
     "output_type": "execute_result"
    }
   ],
   "source": [
    "matrace(B), B.trace()"
   ]
  },
  {
   "cell_type": "code",
   "execution_count": 8,
   "metadata": {
    "collapsed": false
   },
   "outputs": [
    {
     "data": {
      "text/plain": [
       "(46.0, 46.0)"
      ]
     },
     "execution_count": 8,
     "metadata": {},
     "output_type": "execute_result"
    }
   ],
   "source": [
    "matrace(D), D.trace()"
   ]
  },
  {
   "cell_type": "code",
   "execution_count": 9,
   "metadata": {
    "collapsed": false
   },
   "outputs": [
    {
     "data": {
      "text/plain": [
       "(46.0, 46.0)"
      ]
     },
     "execution_count": 9,
     "metadata": {},
     "output_type": "execute_result"
    }
   ],
   "source": [
    "matrace(D.T), D.T.trace()"
   ]
  },
  {
   "cell_type": "code",
   "execution_count": 10,
   "metadata": {
    "collapsed": false
   },
   "outputs": [
    {
     "data": {
      "text/plain": [
       "(1.2606176554219353, 1.2606176554219353)"
      ]
     },
     "execution_count": 10,
     "metadata": {},
     "output_type": "execute_result"
    }
   ],
   "source": [
    "matrace(inv(D)), inv(D).trace()"
   ]
  },
  {
   "cell_type": "code",
   "execution_count": 11,
   "metadata": {
    "collapsed": false
   },
   "outputs": [
    {
     "data": {
      "text/plain": [
       "array([[ 1,  2,  3],\n",
       "       [-1, -2, -3],\n",
       "       [ 2,  1,  0]])"
      ]
     },
     "execution_count": 11,
     "metadata": {},
     "output_type": "execute_result"
    }
   ],
   "source": [
    "F = array(((1,2,3),(-1,-2,-3),(2,1,0))); F"
   ]
  },
  {
   "cell_type": "code",
   "execution_count": 12,
   "metadata": {
    "collapsed": false
   },
   "outputs": [
    {
     "data": {
      "text/plain": [
       "array([[ 1,  2,  3],\n",
       "       [-1, -2, -3]])"
      ]
     },
     "execution_count": 12,
     "metadata": {},
     "output_type": "execute_result"
    }
   ],
   "source": [
    "G = array(((1,2,3),(-1,-2,-3))); G"
   ]
  },
  {
   "cell_type": "code",
   "execution_count": 13,
   "metadata": {
    "collapsed": false
   },
   "outputs": [
    {
     "data": {
      "text/plain": [
       "(-1, -1)"
      ]
     },
     "execution_count": 13,
     "metadata": {},
     "output_type": "execute_result"
    }
   ],
   "source": [
    "matrace(F), F.trace()  ## -1 = error or result?"
   ]
  },
  {
   "cell_type": "code",
   "execution_count": 14,
   "metadata": {
    "collapsed": false
   },
   "outputs": [
    {
     "data": {
      "text/plain": [
       "(-1, -1)"
      ]
     },
     "execution_count": 14,
     "metadata": {},
     "output_type": "execute_result"
    }
   ],
   "source": [
    "matrace(G), G.trace()  ## -1 = error or result?"
   ]
  },
  {
   "cell_type": "markdown",
   "metadata": {},
   "source": [
    "Try to use exceptions to idicate an error condition!"
   ]
  },
  {
   "cell_type": "code",
   "execution_count": 15,
   "metadata": {
    "collapsed": false
   },
   "outputs": [],
   "source": [
    "def matrace(A):\n",
    "    if A.shape[0] == A.shape[1]:  # square matrix\n",
    "        return sum(A.diagonal())\n",
    "    else:\n",
    "        raise ValueError(\"Not a square matrix. Sorry.\")"
   ]
  },
  {
   "cell_type": "code",
   "execution_count": 16,
   "metadata": {
    "collapsed": false
   },
   "outputs": [
    {
     "data": {
      "text/plain": [
       "(-1, -1)"
      ]
     },
     "execution_count": 16,
     "metadata": {},
     "output_type": "execute_result"
    }
   ],
   "source": [
    "matrace(F), F.trace() ## -1 must is result"
   ]
  },
  {
   "cell_type": "code",
   "execution_count": 17,
   "metadata": {
    "collapsed": false
   },
   "outputs": [
    {
     "ename": "ValueError",
     "evalue": "Not a square matrix. Sorry.",
     "output_type": "error",
     "traceback": [
      "\u001b[1;31m---------------------------------------------------------------------------\u001b[0m",
      "\u001b[1;31mValueError\u001b[0m                                Traceback (most recent call last)",
      "\u001b[1;32m<ipython-input-17-a14741b5c239>\u001b[0m in \u001b[0;36m<module>\u001b[1;34m()\u001b[0m\n\u001b[1;32m----> 1\u001b[1;33m \u001b[0mmatrace\u001b[0m\u001b[1;33m(\u001b[0m\u001b[0mG\u001b[0m\u001b[1;33m)\u001b[0m\u001b[1;33m,\u001b[0m \u001b[0mG\u001b[0m\u001b[1;33m.\u001b[0m\u001b[0mtrace\u001b[0m\u001b[1;33m(\u001b[0m\u001b[1;33m)\u001b[0m  \u001b[1;31m## error throws exception\u001b[0m\u001b[1;33m\u001b[0m\u001b[0m\n\u001b[0m",
      "\u001b[1;32m<ipython-input-15-933595dad0e3>\u001b[0m in \u001b[0;36mmatrace\u001b[1;34m(A)\u001b[0m\n\u001b[0;32m      3\u001b[0m         \u001b[1;32mreturn\u001b[0m \u001b[0msum\u001b[0m\u001b[1;33m(\u001b[0m\u001b[0mA\u001b[0m\u001b[1;33m.\u001b[0m\u001b[0mdiagonal\u001b[0m\u001b[1;33m(\u001b[0m\u001b[1;33m)\u001b[0m\u001b[1;33m)\u001b[0m\u001b[1;33m\u001b[0m\u001b[0m\n\u001b[0;32m      4\u001b[0m     \u001b[1;32melse\u001b[0m\u001b[1;33m:\u001b[0m\u001b[1;33m\u001b[0m\u001b[0m\n\u001b[1;32m----> 5\u001b[1;33m         \u001b[1;32mraise\u001b[0m \u001b[0mValueError\u001b[0m\u001b[1;33m(\u001b[0m\u001b[1;34m\"Not a square matrix. Sorry.\"\u001b[0m\u001b[1;33m)\u001b[0m\u001b[1;33m\u001b[0m\u001b[0m\n\u001b[0m",
      "\u001b[1;31mValueError\u001b[0m: Not a square matrix. Sorry."
     ]
    }
   ],
   "source": [
    "matrace(G), G.trace()  ## error throws exception"
   ]
  },
  {
   "cell_type": "code",
   "execution_count": 18,
   "metadata": {
    "collapsed": false
   },
   "outputs": [
    {
     "name": "stdout",
     "output_type": "stream",
     "text": [
      "Exception catched! Calculation of trace didn't work\n"
     ]
    }
   ],
   "source": [
    "try:\n",
    "    matrace(G)\n",
    "except( ValueError):\n",
    "    print(\"Exception catched! Calculation of trace didn't work\")"
   ]
  }
 ],
 "metadata": {
  "kernelspec": {
   "display_name": "Python 3",
   "language": "python",
   "name": "python3"
  },
  "language_info": {
   "codemirror_mode": {
    "name": "ipython",
    "version": 3
   },
   "file_extension": ".py",
   "mimetype": "text/x-python",
   "name": "python",
   "nbconvert_exporter": "python",
   "pygments_lexer": "ipython3",
   "version": "3.4.3"
  },
  "name": "_merged"
 },
 "nbformat": 4,
 "nbformat_minor": 0
}
