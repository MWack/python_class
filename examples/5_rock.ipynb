{
 "cells": [
  {
   "cell_type": "markdown",
   "metadata": {},
   "source": [
    "\n",
    "## Object Oriented Programming (OOP)"
   ]
  },
  {
   "cell_type": "markdown",
   "metadata": {},
   "source": [
    "OOP allows you to encapsulate specific behaviour into so called classes. Instances of those classes can be used to write intuitive program code. Below is an example using classes defined in rock.py to create instances of fruits and rocks and to determine their cumulative weight on a scale. Classes can represent real world objects as in this example but also abstract things like a button in a graphical user interface or a list with special sorting algorithms."
   ]
  },
  {
   "cell_type": "markdown",
   "metadata": {},
   "source": [
    "Normally you would import the classes from the module rock like this:"
   ]
  },
  {
   "cell_type": "code",
   "execution_count": 2,
   "metadata": {
    "collapsed": false
   },
   "outputs": [],
   "source": [
    "#from rock import Rock, Sediment, MagneticMatter, MagneticSediment, Scale, Fruit"
   ]
  },
  {
   "cell_type": "markdown",
   "metadata": {},
   "source": [
    "Alternatively you can use the magic %load command to get the whole file into this ipython notebook:"
   ]
  },
  {
   "cell_type": "code",
   "execution_count": 3,
   "metadata": {
    "collapsed": true
   },
   "outputs": [],
   "source": [
    "# %load rock.py\n",
    "# object oriented programming with Python\n",
    "# Michael Wack 2015\n",
    "\n",
    "class Fruit:\n",
    "    def __init__(self, weight):\n",
    "        self.weight = weight\n",
    "\n",
    "    def __repr__(self):\n",
    "        return( \"fruit with weight {:.2e}\".format( self.weight))\n",
    "\n",
    "\n",
    "class Rock:\n",
    "    # class variable\n",
    "    rockcounter=0\n",
    "\n",
    "\n",
    "    @classmethod\n",
    "    def BlueRock(cls, weight, volume):\n",
    "        return cls( color=\"blue\", weight=weight, volume=volume)\n",
    "\n",
    "\n",
    "    @staticmethod\n",
    "    def density( weight, volume):\n",
    "        return weight / volume\n",
    "\n",
    "    def __init__(self, color, weight, volume=11e-6):\n",
    "        self.color = color\n",
    "        self.weight = weight  # SI: kg\n",
    "        self.volume = volume  # SI: m^3\n",
    "\n",
    "        Rock.rockcounter += 1\n",
    "        self.no = Rock.rockcounter\n",
    "\n",
    "        print(\"{}. rock created\".format(Rock.rockcounter))\n",
    "\n",
    "    def calculate_density(self):\n",
    "        return Rock.density( self.weight, self.volume)  # SI: kg / m^3\n",
    "\n",
    "\n",
    "    def __repr__(self):\n",
    "        return( \"{} rock (No {}) with a density of {:.2f}\".format( self.color, self.no, self.calculate_density()))\n",
    "\n",
    "\n",
    "class Sediment( Rock):\n",
    "    def __init__(self, color, weight, volume=11e-6, grainsize=0):\n",
    "        super().__init__(color, weight, volume)\n",
    "\n",
    "        self.grainsize = grainsize\n",
    "\n",
    "\n",
    "    def double_grainsize(self):\n",
    "        self.grainsize *= 2\n",
    "\n",
    "    def __repr__(self):\n",
    "        return( \"{} sediment (No {}) with a density of {:.2e} and a grainsize of {:.2e}\".format( self.color, self.no, self.calculate_density(), self.grainsize))\n",
    "\n",
    "\n",
    "\n",
    "class MagneticMatter(): # all volume normalized\n",
    "    def __init__(self, magnetization=0, susceptibiltiy=0):\n",
    "        self.magnetization = magnetization # Am^2 / m^3 = A/m\n",
    "        self.susceptibility = susceptibiltiy # volume normailzed -> no units\n",
    "\n",
    "    def induced_magnetization(self, external_field_H): # SI A/m\n",
    "        return self.susceptibility * external_field_H\n",
    "\n",
    "    def total_magnetization(self, external_field_H): # SI A/m\n",
    "        return self.induced_magnetization(external_field_H) + self.magnetization\n",
    "\n",
    "\n",
    "\n",
    "class MagneticSediment( MagneticMatter, Sediment):\n",
    "    def __init__(self, color, weight, volume, grainsize=0, magnetization=0, susceptibility=0):\n",
    "        MagneticMatter.__init__( self, magnetization, susceptibility)\n",
    "        Sediment.__init__( self, color, weight, volume)\n",
    "\n",
    "    def magnetic_moment(self):\n",
    "        return self.magnetization * self.volume\n",
    "\n",
    "\n",
    "# class to determine weight of other object instances\n",
    "class Scale():\n",
    "    def __init__(self, weight_limit=100):\n",
    "        self.weight_limit = weight_limit\n",
    "        self.instances = []\n",
    "\n",
    "    def put_on(self, inst):\n",
    "        if inst in self.instances:\n",
    "            print(\"{} is already on scale.\".format(inst))\n",
    "        else:\n",
    "            self.instances.append(inst)\n",
    "            print(\"{} placed on scale.\".format(inst))\n",
    "\n",
    "    def take_off(self, inst):\n",
    "        try:\n",
    "            self.instances.remove(inst)\n",
    "            print(\"{} removed.\".format(inst))\n",
    "        except KeyError:\n",
    "            print(\"{} was not on scale.\".format(inst))\n",
    "\n",
    "    @property\n",
    "    def weight(self):\n",
    "        weight = 0\n",
    "        for i in self.instances:\n",
    "            weight += i.weight\n",
    "        if weight > self.weight_limit:\n",
    "            print(\"Scale overloaded.\")\n",
    "\n",
    "        return weight\n"
   ]
  },
  {
   "cell_type": "code",
   "execution_count": 4,
   "metadata": {
    "collapsed": false
   },
   "outputs": [],
   "source": [
    "apple = Fruit(weight=0.2)"
   ]
  },
  {
   "cell_type": "code",
   "execution_count": 5,
   "metadata": {
    "collapsed": false
   },
   "outputs": [
    {
     "data": {
      "text/plain": [
       "fruit with weight 2.00e-01"
      ]
     },
     "execution_count": 5,
     "metadata": {},
     "output_type": "execute_result"
    }
   ],
   "source": [
    "apple"
   ]
  },
  {
   "cell_type": "code",
   "execution_count": 6,
   "metadata": {
    "collapsed": false
   },
   "outputs": [
    {
     "name": "stdout",
     "output_type": "stream",
     "text": [
      "1. rock created\n"
     ]
    }
   ],
   "source": [
    "my_first_rock = Rock(color='red', weight=10)"
   ]
  },
  {
   "cell_type": "code",
   "execution_count": 7,
   "metadata": {
    "collapsed": false
   },
   "outputs": [
    {
     "data": {
      "text/plain": [
       "red rock (No 1) with a density of 909090.91"
      ]
     },
     "execution_count": 7,
     "metadata": {},
     "output_type": "execute_result"
    }
   ],
   "source": [
    "my_first_rock"
   ]
  },
  {
   "cell_type": "code",
   "execution_count": 8,
   "metadata": {
    "collapsed": false
   },
   "outputs": [
    {
     "name": "stdout",
     "output_type": "stream",
     "text": [
      "2. rock created\n"
     ]
    }
   ],
   "source": [
    "my_second_rock = Sediment(color='yellow', weight=12)"
   ]
  },
  {
   "cell_type": "code",
   "execution_count": 9,
   "metadata": {
    "collapsed": false
   },
   "outputs": [
    {
     "name": "stdout",
     "output_type": "stream",
     "text": [
      "3. rock created\n"
     ]
    }
   ],
   "source": [
    "blue_rock = Rock.BlueRock(weight=3, volume = 0.1)"
   ]
  },
  {
   "cell_type": "code",
   "execution_count": 10,
   "metadata": {
    "collapsed": false
   },
   "outputs": [
    {
     "data": {
      "text/plain": [
       "blue rock (No 3) with a density of 30.00"
      ]
     },
     "execution_count": 10,
     "metadata": {},
     "output_type": "execute_result"
    }
   ],
   "source": [
    "blue_rock"
   ]
  },
  {
   "cell_type": "code",
   "execution_count": 11,
   "metadata": {
    "collapsed": false
   },
   "outputs": [
    {
     "name": "stdout",
     "output_type": "stream",
     "text": [
      "4. rock created\n"
     ]
    }
   ],
   "source": [
    "my_last_rock = MagneticSediment(color='purple', weight=1, volume=0.01, magnetization=1e-3, susceptibility=5e-3)"
   ]
  },
  {
   "cell_type": "code",
   "execution_count": 12,
   "metadata": {
    "collapsed": false
   },
   "outputs": [
    {
     "data": {
      "text/plain": [
       "0.2"
      ]
     },
     "execution_count": 12,
     "metadata": {},
     "output_type": "execute_result"
    }
   ],
   "source": [
    "my_last_rock.induced_magnetization(external_field_H = 40)"
   ]
  },
  {
   "cell_type": "code",
   "execution_count": 13,
   "metadata": {
    "collapsed": false
   },
   "outputs": [
    {
     "data": {
      "text/plain": [
       "0.201"
      ]
     },
     "execution_count": 13,
     "metadata": {},
     "output_type": "execute_result"
    }
   ],
   "source": [
    "my_last_rock.total_magnetization(external_field_H = 40)"
   ]
  },
  {
   "cell_type": "code",
   "execution_count": 14,
   "metadata": {
    "collapsed": true
   },
   "outputs": [],
   "source": [
    "myscale = Scale(weight_limit = 20)"
   ]
  },
  {
   "cell_type": "code",
   "execution_count": 15,
   "metadata": {
    "collapsed": false
   },
   "outputs": [
    {
     "data": {
      "text/plain": [
       "<__main__.Scale at 0x7f45b01a36d8>"
      ]
     },
     "execution_count": 15,
     "metadata": {},
     "output_type": "execute_result"
    }
   ],
   "source": [
    "myscale"
   ]
  },
  {
   "cell_type": "code",
   "execution_count": 16,
   "metadata": {
    "collapsed": false
   },
   "outputs": [
    {
     "name": "stdout",
     "output_type": "stream",
     "text": [
      "blue rock (No 3) with a density of 30.00 placed on scale.\n"
     ]
    }
   ],
   "source": [
    "myscale.put_on( blue_rock)"
   ]
  },
  {
   "cell_type": "code",
   "execution_count": 17,
   "metadata": {
    "collapsed": false
   },
   "outputs": [
    {
     "data": {
      "text/plain": [
       "3"
      ]
     },
     "execution_count": 17,
     "metadata": {},
     "output_type": "execute_result"
    }
   ],
   "source": [
    "myscale.weight"
   ]
  },
  {
   "cell_type": "code",
   "execution_count": 18,
   "metadata": {
    "collapsed": false
   },
   "outputs": [
    {
     "name": "stdout",
     "output_type": "stream",
     "text": [
      "yellow sediment (No 2) with a density of 1.09e+06 and a grainsize of 0.00e+00 placed on scale.\n"
     ]
    }
   ],
   "source": [
    "myscale.put_on( my_second_rock)"
   ]
  },
  {
   "cell_type": "code",
   "execution_count": 19,
   "metadata": {
    "collapsed": false
   },
   "outputs": [
    {
     "data": {
      "text/plain": [
       "15"
      ]
     },
     "execution_count": 19,
     "metadata": {},
     "output_type": "execute_result"
    }
   ],
   "source": [
    "myscale.weight"
   ]
  },
  {
   "cell_type": "code",
   "execution_count": 20,
   "metadata": {
    "collapsed": false
   },
   "outputs": [
    {
     "name": "stdout",
     "output_type": "stream",
     "text": [
      "yellow sediment (No 2) with a density of 1.09e+06 and a grainsize of 0.00e+00 is already on scale.\n"
     ]
    }
   ],
   "source": [
    "myscale.put_on( my_second_rock)"
   ]
  },
  {
   "cell_type": "code",
   "execution_count": 21,
   "metadata": {
    "collapsed": false
   },
   "outputs": [
    {
     "data": {
      "text/plain": [
       "15"
      ]
     },
     "execution_count": 21,
     "metadata": {},
     "output_type": "execute_result"
    }
   ],
   "source": [
    "myscale.weight"
   ]
  },
  {
   "cell_type": "code",
   "execution_count": 22,
   "metadata": {
    "collapsed": false
   },
   "outputs": [
    {
     "name": "stdout",
     "output_type": "stream",
     "text": [
      "red rock (No 1) with a density of 909090.91 placed on scale.\n"
     ]
    }
   ],
   "source": [
    "myscale.put_on( my_first_rock)"
   ]
  },
  {
   "cell_type": "code",
   "execution_count": 23,
   "metadata": {
    "collapsed": false
   },
   "outputs": [
    {
     "name": "stdout",
     "output_type": "stream",
     "text": [
      "Scale overloaded.\n"
     ]
    },
    {
     "data": {
      "text/plain": [
       "25"
      ]
     },
     "execution_count": 23,
     "metadata": {},
     "output_type": "execute_result"
    }
   ],
   "source": [
    "myscale.weight"
   ]
  },
  {
   "cell_type": "code",
   "execution_count": 24,
   "metadata": {
    "collapsed": false
   },
   "outputs": [
    {
     "name": "stdout",
     "output_type": "stream",
     "text": [
      "blue rock (No 3) with a density of 30.00 removed.\n"
     ]
    }
   ],
   "source": [
    "myscale.take_off( blue_rock)"
   ]
  },
  {
   "cell_type": "code",
   "execution_count": 25,
   "metadata": {
    "collapsed": false
   },
   "outputs": [
    {
     "name": "stdout",
     "output_type": "stream",
     "text": [
      "Scale overloaded.\n"
     ]
    },
    {
     "data": {
      "text/plain": [
       "22"
      ]
     },
     "execution_count": 25,
     "metadata": {},
     "output_type": "execute_result"
    }
   ],
   "source": [
    "myscale.weight"
   ]
  }
 ],
 "metadata": {
  "kernelspec": {
   "display_name": "Python 3",
   "language": "python",
   "name": "python3"
  },
  "language_info": {
   "codemirror_mode": {
    "name": "ipython",
    "version": 3
   },
   "file_extension": ".py",
   "mimetype": "text/x-python",
   "name": "python",
   "nbconvert_exporter": "python",
   "pygments_lexer": "ipython3",
   "version": "3.4.3"
  }
 },
 "nbformat": 4,
 "nbformat_minor": 0
}
